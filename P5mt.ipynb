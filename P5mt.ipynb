{
  "nbformat": 4,
  "nbformat_minor": 0,
  "metadata": {
    "colab": {
      "name": "P5mt.ipynb",
      "provenance": [],
      "collapsed_sections": [],
      "authorship_tag": "ABX9TyMwjuF+s8CXM1h0OS1477Ue",
      "include_colab_link": true
    },
    "kernelspec": {
      "name": "python3",
      "display_name": "Python 3"
    }
  },
  "cells": [
    {
      "cell_type": "markdown",
      "metadata": {
        "id": "view-in-github",
        "colab_type": "text"
      },
      "source": [
        "<a href=\"https://colab.research.google.com/github/gabrielbonfim1/MTP5/blob/main/P5mt.ipynb\" target=\"_parent\"><img src=\"https://colab.research.google.com/assets/colab-badge.svg\" alt=\"Open In Colab\"/></a>"
      ]
    },
    {
      "cell_type": "markdown",
      "metadata": {
        "id": "57AKZsjJd8Ik"
      },
      "source": [
        "## Programa para auxiliar na solução da prova P5 da disciplina de máquinas térmicas, FEG - UNESP\r\n",
        "##### - Feito por Gabriel Alves , Jan/2021 ano de Pandemia."
      ]
    },
    {
      "cell_type": "markdown",
      "metadata": {
        "id": "LThZhCnweY9p"
      },
      "source": [
        "-> Importando bibliotecas necessárias para o programa\r\n"
      ]
    },
    {
      "cell_type": "code",
      "metadata": {
        "id": "wrLO7QCyeRsK"
      },
      "source": [
        "import pandas as pd     # Biblioteca para importar as turbinas a gás\r\n",
        "!pip install pyromat\r\n",
        "import pyromat as pm    # Biblioteca de estados termodinâmicas"
      ],
      "execution_count": null,
      "outputs": []
    },
    {
      "cell_type": "markdown",
      "metadata": {
        "id": "5FkC7mgXgt-G"
      },
      "source": [
        "-> Importando o catálogo de turbinas a gás para a variável df (DataFrame)"
      ]
    },
    {
      "cell_type": "code",
      "metadata": {
        "id": "8F2QbdqOfTmK"
      },
      "source": [
        "df = pd.read_excel(\"https://github.com/gabrielbonfim1/MTP5/blob/main/TurbinasaGas.xlsx?raw=true\", sheet_name=\"Planilha1\")"
      ],
      "execution_count": 6,
      "outputs": []
    },
    {
      "cell_type": "markdown",
      "metadata": {
        "id": "KY-g6tnBh2uC"
      },
      "source": [
        "-> Como todos os exercícios anteriores do ano, vamos assumir turbina a gás utilizando Gás natural, PCI = 50000 kJ/Kg , em paridade térmica.\r\n",
        "-> Além disso assumiremos alguns valores usados previamente. Chequem antes das prova."
      ]
    },
    {
      "cell_type": "code",
      "metadata": {
        "id": "2dhuCmJhiFgR"
      },
      "source": [
        "PCI = 50000\r\n",
        "cpg = 1.2              #kJ/Kg   , Cp dos gases de exaustão.\r\n",
        "Tchi = 150             #Celsius , temperatura da chaminé inicial."
      ],
      "execution_count": 9,
      "outputs": []
    },
    {
      "cell_type": "markdown",
      "metadata": {
        "id": "WSscuek8mMg1"
      },
      "source": [
        "-> Para utilização do programa será necessário escolher o estado de vapor vivo (temperatura e pressão), o estado de entrada na caldeira, e a vazão total necessária. Preencher os valores na célula a seguir."
      ]
    },
    {
      "cell_type": "code",
      "metadata": {
        "id": "ihN1NQb2iroj"
      },
      "source": [
        "P_saida =     10        #Pressão de vapor na saida da caldeira de recuperação [MPa]\r\n",
        "T_saida =     450       #Temperatura de saida da água na caldeira (Ta) [C]\r\n",
        "P_entrada =   11.66     #Pressão de vapor na entrada da caldeira de recuperação [MPa]\r\n",
        "T_entrada =   127       #Temperatura de entrada da água na caldeira (Ta) [C]\r\n",
        "mv=          6.96       #Necessidade de vapor vivo a ser gerado [Kg/s]"
      ],
      "execution_count": null,
      "outputs": []
    },
    {
      "cell_type": "markdown",
      "metadata": {
        "id": "qqx7IgVxnnEN"
      },
      "source": [
        "## Código do Programa:"
      ]
    },
    {
      "cell_type": "code",
      "metadata": {
        "id": "3myj5R3Qnqsw"
      },
      "source": [
        "hv=agua.h(T=T_saida, p=P_saida)\r\n",
        "ha=agua.h(T=T_entrada, p=P_saida)\r\n",
        "T_sat = agua.Ts(p=P_saida)\r\n",
        "hls=agua.h(p=P_saida, x=0)\r\n",
        "hvs=agua.h(p=P_saida, x=1)"
      ],
      "execution_count": null,
      "outputs": []
    }
  ]
}