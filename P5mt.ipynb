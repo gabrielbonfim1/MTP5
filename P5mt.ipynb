{
  "nbformat": 4,
  "nbformat_minor": 0,
  "metadata": {
    "colab": {
      "name": "P5mt.ipynb",
      "provenance": [],
      "collapsed_sections": [],
      "authorship_tag": "ABX9TyNSJMzF6xFRbVJm3u3Ir59T",
      "include_colab_link": true
    },
    "kernelspec": {
      "name": "python3",
      "display_name": "Python 3"
    }
  },
  "cells": [
    {
      "cell_type": "markdown",
      "metadata": {
        "id": "view-in-github",
        "colab_type": "text"
      },
      "source": [
        "<a href=\"https://colab.research.google.com/github/gabrielbonfim1/MTP5/blob/main/P5mt.ipynb\" target=\"_parent\"><img src=\"https://colab.research.google.com/assets/colab-badge.svg\" alt=\"Open In Colab\"/></a>"
      ]
    },
    {
      "cell_type": "markdown",
      "metadata": {
        "id": "57AKZsjJd8Ik"
      },
      "source": [
        "## Programa para auxiliar na solução da prova P5 da disciplina de máquinas térmicas, FEG - UNESP\r\n",
        "##### - Feito por Gabriel Alves , Jan/2021 ano de Pandemia."
      ]
    },
    {
      "cell_type": "markdown",
      "metadata": {
        "id": "LThZhCnweY9p"
      },
      "source": [
        "-> Importando bibliotecas necessárias para o programa\r\n"
      ]
    },
    {
      "cell_type": "code",
      "metadata": {
        "id": "wrLO7QCyeRsK",
        "colab": {
          "base_uri": "https://localhost:8080/"
        },
        "outputId": "f88d5a50-1d49-4cec-dece-6d6eeae116e7"
      },
      "source": [
        "import pandas as pd     # Biblioteca para importar as turbinas a gás\r\n",
        "!pip install pyromat\r\n",
        "import pyromat as pm    # Biblioteca de estados termodinâmicas\r\n",
        "import math             # Funções de arredondamento\r\n",
        "from IPython.display import display, Markdown, Math, Latex\r\n",
        "from sympy import *"
      ],
      "execution_count": 3,
      "outputs": [
        {
          "output_type": "stream",
          "text": [
            "Collecting pyromat\n",
            "\u001b[?25l  Downloading https://files.pythonhosted.org/packages/a0/3d/a50cb9ba0291a22f6c796d19e8d473773e988d76a834e29aa5ebf404bd21/PYroMat-2.0.12-py2.py3-none-any.whl (747kB)\n",
            "\u001b[K     |████████████████████████████████| 757kB 3.6MB/s \n",
            "\u001b[?25hRequirement already satisfied: numpy>=1.7 in /usr/local/lib/python3.6/dist-packages (from pyromat) (1.19.5)\n",
            "Installing collected packages: pyromat\n",
            "Successfully installed pyromat-2.0.12\n"
          ],
          "name": "stdout"
        }
      ]
    },
    {
      "cell_type": "markdown",
      "metadata": {
        "id": "5FkC7mgXgt-G"
      },
      "source": [
        "-> Importando o catálogo de turbinas a gás para a variável df (DataFrame)"
      ]
    },
    {
      "cell_type": "code",
      "metadata": {
        "id": "8F2QbdqOfTmK"
      },
      "source": [
        "full_table = pd.read_excel(\"https://github.com/gabrielbonfim1/MTP5/blob/main/TurbinasaGas.xlsx?raw=true\", sheet_name=\"Planilha1\")\r\n",
        "pd.set_option('display.max_rows', None)"
      ],
      "execution_count": 4,
      "outputs": []
    },
    {
      "cell_type": "markdown",
      "metadata": {
        "id": "KY-g6tnBh2uC"
      },
      "source": [
        "-> Como todos os exercícios anteriores do ano, vamos assumir turbina a gás utilizando Gás natural, PCI = 50000 kJ/Kg , em paridade térmica.\r\n",
        "-> Além disso assumiremos alguns valores usados previamente. Chequem antes das prova."
      ]
    },
    {
      "cell_type": "code",
      "metadata": {
        "id": "2dhuCmJhiFgR"
      },
      "source": [
        "PCI = 50000\r\n",
        "cpg = 1.2              #kJ/Kg   , Cp dos gases de exaustão.\r\n",
        "Tchi = 150             #Celsius , temperatura da chaminé inicial."
      ],
      "execution_count": 5,
      "outputs": []
    },
    {
      "cell_type": "markdown",
      "metadata": {
        "id": "WSscuek8mMg1"
      },
      "source": [
        "-> Para utilização do programa será necessário escolher o estado de vapor vivo (temperatura e pressão), a temperatura de entrada na caldeira, e a vazão total necessária. Preencher os valores na célula a seguir.\r\n",
        "\r\n",
        "Obs : A pressão de entrada é calculada automaticamente."
      ]
    },
    {
      "cell_type": "code",
      "metadata": {
        "id": "ihN1NQb2iroj"
      },
      "source": [
        "P_saida =     10        #Pressão de vapor na saida da caldeira de recuperação [MPa]\r\n",
        "T_saida =     500       #Temperatura de saida da água na caldeira (Ta) [C]\r\n",
        "T_entrada =   30       #Temperatura de entrada da água na caldeira (Ta) [C]\r\n",
        "mvt=          25      #vazão de vapor vivo total a ser gerado [Kg/s]"
      ],
      "execution_count": 6,
      "outputs": []
    },
    {
      "cell_type": "markdown",
      "metadata": {
        "id": "qqx7IgVxnnEN"
      },
      "source": [
        "## Código do Programa:"
      ]
    },
    {
      "cell_type": "code",
      "metadata": {
        "colab": {
          "base_uri": "https://localhost:8080/"
        },
        "id": "QasmQFKjuPZR",
        "outputId": "e1eea0e6-80f5-4a7d-e13b-bcf4132303dd"
      },
      "source": [
        "pm.config['unit_pressure'] = 'MPa'\r\n",
        "pm.config['unit_temperature'] = 'C'\r\n",
        "agua = pm.get('mp.H2O')\r\n",
        "\r\n",
        "P_entrada = P_saida / (0.95**3)\r\n",
        "hv=agua.h(T=T_saida, p=P_saida)[0]\r\n",
        "ha=agua.h(T=T_entrada, p=P_saida)[0]\r\n",
        "T_sat = agua.Ts(p=P_saida)[0]\r\n",
        "hls=agua.h(p=P_saida, x=0)[0]\r\n",
        "hvs=agua.h(p=P_saida, x=1)[0]\r\n",
        "mg_max = mvt*(hv-ha)/(0.8*cpg*(400-150))\r\n",
        "\r\n",
        "in_range1 = full_table['Mass Flow (kg/s)']<=mg_max\r\n",
        "df = full_table[in_range1]\r\n",
        "df[\"Status\"]=\"\"\r\n",
        "df[\"No de Conjuntos\"]=\"\"\r\n",
        "df = df.reset_index(drop=True)\r\n",
        "\r\n",
        "for i in range(len(df)):\r\n",
        "  keep = True\r\n",
        "\r\n",
        "  #Características do ciclo a gás\r\n",
        "  modelo = df.at[i,'Modelo']\r\n",
        "\r\n",
        "  W = df.at[i,'kW']\r\n",
        "  HR = df.at[i,'HR (kJ/KwH)']\r\n",
        "  Pr = df.at[i,'Pressure Ratio']\r\n",
        "  Mg = df.at[i,'Mass Flow (kg/s)']\r\n",
        "  Tg = df.at[i,'Exaust Temp (oC)']\r\n",
        "\r\n",
        "  mg_necessaria = mvt*(hv-ha) / (0.8*cpg*(Tg-150))\r\n",
        "  numero_conjuntos = max(math.floor(mg_necessaria/Mg),1)\r\n",
        "  \r\n",
        "\r\n",
        "  mv = mvt / numero_conjuntos\r\n",
        "\r\n",
        "  Qg = Mg*cpg*(Tg-150)\r\n",
        "  Qa  = mv*(hv-ha)\r\n",
        "  Qls = mv*(hv-hls)\r\n",
        "  Qvs = mv*(hv-hvs)\r\n",
        "  Qv  = mv*(hv-hv)\r\n",
        "\r\n",
        "  Rend_real = Qa/Qg\r\n",
        "\r\n",
        "  Tpp_inf = 10\r\n",
        "  Tpp_sup = 30\r\n",
        "\r\n",
        "  Tch_inf = Tg + ((T_sat+Tpp_inf)-Tg)*Qg/Qls\r\n",
        "  Tch_sup = Tg + ((T_sat+Tpp_sup)-Tg)*Qg/Qls\r\n",
        "\r\n",
        "\r\n",
        "\r\n",
        "  ## Prints\r\n",
        "  #print(f\"Modelo : {modelo} - Potência = {W}kW - Vazão de Gases = {Mg}Kg/s - Temperatura de exaustão = {Tg} °C\")\r\n",
        "  #print(f\"Número de conjuntos a gás necessários : {round(mg_necessaria/Mg,2)} -> {numero_conjuntos} + QS\")\r\n",
        "  #print(\"\")\r\n",
        "  #print(f\"Qg = {round(Qg,1)} kW\")\r\n",
        "  #print(f\"Qa = {round(Qa,1)} kW\")\r\n",
        "  #print(f\"Qls = {round(Qls,1)} kW\")\r\n",
        "  #print(f\"Qvs = {round(Qvs,1)} kW\")\r\n",
        "  #print(f\"Qv = 0 kW\")\r\n",
        "  #print(\"\")\r\n",
        "  #print(f\"Redimento real = {round(Rend_real*100,1)}%\")\r\n",
        "  #print(f\"Temperaturas de chaminé : {round(Tch_inf,1)} °C <--> {round(Tch_sup,1)}°C\")\r\n",
        "  #print(\"\")\r\n",
        "\r\n",
        "  if Tch_inf > 200 or Tch_sup < 100:\r\n",
        "    df.at[i,'Status'] = 0\r\n",
        "    keep = False\r\n",
        "    #print(\"Temperaturas de chaminé fora do aceitável, conjunto descartado\")\r\n",
        "  else:\r\n",
        "    if Tch_sup > 200:\r\n",
        "      Tch_sup = 200\r\n",
        "      Tpp_sup = ( (Tch_sup-Tg)*Qls/Qg)-T_sat+Tg\r\n",
        "    if Tch_inf < 100:\r\n",
        "      Tch_inf = 100\r\n",
        "      Tpp_inf = ( (Tch_inf-Tg)*Qls/Qg)-T_sat+Tg\r\n",
        "    #print(f\"Temperaturas de chaminés corrigidas :\")\r\n",
        "    #print(f\"Tch = {round(Tch_inf,1)}°C -> Tpp = {round(Tpp_inf,1)}°C\")\r\n",
        "    #print(f\"Tch = {round(Tch_sup,1)}°C -> Tpp = {round(Tpp_sup,1)}°C\")\r\n",
        "    #print(\"\")\r\n",
        "\r\n",
        "\r\n",
        "  Fluxo_termico_gas_sup = Rend_real*Mg*cpg*(Tg-Tch_inf)\r\n",
        "  Fluxo_termico_gas_inf = Rend_real*Mg*cpg*(Tg-Tch_sup)\r\n",
        "\r\n",
        "  if keep:\r\n",
        "    if Fluxo_termico_gas_inf > Qa:\r\n",
        "      df.at[i,'Status'] = 1\r\n",
        "      #print(\"Conjunto com excedente térmico, descartado.\")\r\n",
        "    elif Fluxo_termico_gas_sup < Qa:\r\n",
        "      #print(f\"Conjunto a gás com déficit térmico, mesmo com PinchPoint mínimo de {Tpp_inf} °C, necessário queima suplementar \")\r\n",
        "      ms = (Qa-Fluxo_termico_gas_sup)/(Rend_real*PCI)\r\n",
        "      mc = W*HR/(3600*PCI)\r\n",
        "      proporcao = ms/mc\r\n",
        "      #print(f\"Queima de combustível = {round(mc,3)} Kg/s\")\r\n",
        "      #print(f\"Queima suplementar = {round(ms,3)} Kg/s\")\r\n",
        "      #print(f\"Queima suplementar representa {round(proporcao*100,1)}% da Queima de combustível\")\r\n",
        "      if proporcao>0.1:\r\n",
        "        df.at[i,'Status'] = 2\r\n",
        "        #print(\"Queima suplementar representa mais que 10% da queima total, sugerido escolher outro conjunto a gás\")\r\n",
        "      else:\r\n",
        "        df.at[i,'No de Conjuntos']=int(numero_conjuntos)\r\n",
        "        df.at[i,'Status'] = 3\r\n",
        "    else:\r\n",
        "      #print(\"Existe ponto ótimo de trabalho\")\r\n",
        "      Tch_final = -1* ( (Qa/(Rend_real*cpg*Mg))-Tg)\r\n",
        "      #print(f\"Temperatura de chaminé ótima : {Tch_final} °C\")\r\n",
        "      Tpp_final = ( (Tch_final-Tg)*Qls/Qg)-T_sat+Tg\r\n",
        "      #print(f\"Delta Pinch Point ótimo : {round(Tpp_final,1)} °C\")\r\n",
        "      df.at[i,'Status'] = 4\r\n",
        "      df.at[i,'No de Conjuntos']=int(numero_conjuntos)\r\n"
      ],
      "execution_count": 7,
      "outputs": [
        {
          "output_type": "stream",
          "text": [
            "/usr/local/lib/python3.6/dist-packages/ipykernel_launcher.py:15: SettingWithCopyWarning: \n",
            "A value is trying to be set on a copy of a slice from a DataFrame.\n",
            "Try using .loc[row_indexer,col_indexer] = value instead\n",
            "\n",
            "See the caveats in the documentation: https://pandas.pydata.org/pandas-docs/stable/user_guide/indexing.html#returning-a-view-versus-a-copy\n",
            "  from ipykernel import kernelapp as app\n",
            "/usr/local/lib/python3.6/dist-packages/ipykernel_launcher.py:16: SettingWithCopyWarning: \n",
            "A value is trying to be set on a copy of a slice from a DataFrame.\n",
            "Try using .loc[row_indexer,col_indexer] = value instead\n",
            "\n",
            "See the caveats in the documentation: https://pandas.pydata.org/pandas-docs/stable/user_guide/indexing.html#returning-a-view-versus-a-copy\n",
            "  app.launch_new_instance()\n"
          ],
          "name": "stderr"
        }
      ]
    },
    {
      "cell_type": "markdown",
      "metadata": {
        "id": "7qGyEUSBhU6b"
      },
      "source": [
        "## Em seguidas apresentamos os Conjuntos a gás que foram aceitos com queima suplementar (Status = 3) ou sem a necessidade dela (Status = 4)"
      ]
    },
    {
      "cell_type": "code",
      "metadata": {
        "colab": {
          "base_uri": "https://localhost:8080/",
          "height": 1000
        },
        "id": "YzUDP3A0hjwS",
        "outputId": "52bcbd09-b3a2-49b6-c568-ac83a988f40c"
      },
      "source": [
        "status = df[(df[\"Status\"]==3) | (df[\"Status\"]==4)]\r\n",
        "status = status.reset_index(drop=True)\r\n",
        "status"
      ],
      "execution_count": 8,
      "outputs": [
        {
          "output_type": "execute_result",
          "data": {
            "text/html": [
              "<div>\n",
              "<style scoped>\n",
              "    .dataframe tbody tr th:only-of-type {\n",
              "        vertical-align: middle;\n",
              "    }\n",
              "\n",
              "    .dataframe tbody tr th {\n",
              "        vertical-align: top;\n",
              "    }\n",
              "\n",
              "    .dataframe thead th {\n",
              "        text-align: right;\n",
              "    }\n",
              "</style>\n",
              "<table border=\"1\" class=\"dataframe\">\n",
              "  <thead>\n",
              "    <tr style=\"text-align: right;\">\n",
              "      <th></th>\n",
              "      <th>Fabricante</th>\n",
              "      <th>Modelo</th>\n",
              "      <th>Tipo</th>\n",
              "      <th>Combustível</th>\n",
              "      <th>kW</th>\n",
              "      <th>HR (kJ/KwH)</th>\n",
              "      <th>Pressure Ratio</th>\n",
              "      <th>Mass Flow (kg/s)</th>\n",
              "      <th>Exaust Temp (oC)</th>\n",
              "      <th>Status</th>\n",
              "      <th>No de Conjuntos</th>\n",
              "    </tr>\n",
              "  </thead>\n",
              "  <tbody>\n",
              "    <tr>\n",
              "      <th>0</th>\n",
              "      <td>MAN Energy Solutions SE</td>\n",
              "      <td>THM 1304-10N</td>\n",
              "      <td>MD</td>\n",
              "      <td>L/G</td>\n",
              "      <td>10500</td>\n",
              "      <td>11840</td>\n",
              "      <td>10.0</td>\n",
              "      <td>46.5</td>\n",
              "      <td>490</td>\n",
              "      <td>3</td>\n",
              "      <td>5</td>\n",
              "    </tr>\n",
              "    <tr>\n",
              "      <th>1</th>\n",
              "      <td>MAN Energy Solutions SE</td>\n",
              "      <td>THM 1304-10N</td>\n",
              "      <td>EG</td>\n",
              "      <td>L/G</td>\n",
              "      <td>10080</td>\n",
              "      <td>12330</td>\n",
              "      <td>10.0</td>\n",
              "      <td>46.5</td>\n",
              "      <td>490</td>\n",
              "      <td>3</td>\n",
              "      <td>5</td>\n",
              "    </tr>\n",
              "    <tr>\n",
              "      <th>2</th>\n",
              "      <td>MAN Energy Solutions SE</td>\n",
              "      <td>THM 1304-12N</td>\n",
              "      <td>MD</td>\n",
              "      <td>L/G</td>\n",
              "      <td>12000</td>\n",
              "      <td>11610</td>\n",
              "      <td>11.0</td>\n",
              "      <td>48.1</td>\n",
              "      <td>525</td>\n",
              "      <td>3</td>\n",
              "      <td>4</td>\n",
              "    </tr>\n",
              "    <tr>\n",
              "      <th>3</th>\n",
              "      <td>MAN Energy Solutions SE</td>\n",
              "      <td>THM 1304-12N</td>\n",
              "      <td>EG</td>\n",
              "      <td>L/G</td>\n",
              "      <td>11520</td>\n",
              "      <td>12090</td>\n",
              "      <td>11.0</td>\n",
              "      <td>48.1</td>\n",
              "      <td>525</td>\n",
              "      <td>3</td>\n",
              "      <td>4</td>\n",
              "    </tr>\n",
              "    <tr>\n",
              "      <th>4</th>\n",
              "      <td>MAN Energy Solutions SE</td>\n",
              "      <td>MGT6000</td>\n",
              "      <td>MD</td>\n",
              "      <td>L/G</td>\n",
              "      <td>6900</td>\n",
              "      <td>10590</td>\n",
              "      <td>15.0</td>\n",
              "      <td>28.1</td>\n",
              "      <td>460</td>\n",
              "      <td>3</td>\n",
              "      <td>9</td>\n",
              "    </tr>\n",
              "    <tr>\n",
              "      <th>5</th>\n",
              "      <td>MAN Energy Solutions SE</td>\n",
              "      <td>MGT6000</td>\n",
              "      <td>MD</td>\n",
              "      <td>L/G</td>\n",
              "      <td>8300</td>\n",
              "      <td>10290</td>\n",
              "      <td>16.0</td>\n",
              "      <td>30.0</td>\n",
              "      <td>480</td>\n",
              "      <td>3</td>\n",
              "      <td>8</td>\n",
              "    </tr>\n",
              "    <tr>\n",
              "      <th>6</th>\n",
              "      <td>MAN Energy Solutions SE</td>\n",
              "      <td>MGT6000</td>\n",
              "      <td>EG</td>\n",
              "      <td>L/G</td>\n",
              "      <td>6630</td>\n",
              "      <td>11190</td>\n",
              "      <td>15.0</td>\n",
              "      <td>26.2</td>\n",
              "      <td>505</td>\n",
              "      <td>4</td>\n",
              "      <td>9</td>\n",
              "    </tr>\n",
              "    <tr>\n",
              "      <th>7</th>\n",
              "      <td>MAN Energy Solutions SE</td>\n",
              "      <td>MGT6000</td>\n",
              "      <td>EG</td>\n",
              "      <td>L/G</td>\n",
              "      <td>7800</td>\n",
              "      <td>10840</td>\n",
              "      <td>16.0</td>\n",
              "      <td>29.4</td>\n",
              "      <td>490</td>\n",
              "      <td>3</td>\n",
              "      <td>8</td>\n",
              "    </tr>\n",
              "    <tr>\n",
              "      <th>8</th>\n",
              "      <td>Siemens Gas and Power</td>\n",
              "      <td>SGT-100</td>\n",
              "      <td>EG</td>\n",
              "      <td>L/G</td>\n",
              "      <td>5050</td>\n",
              "      <td>11914</td>\n",
              "      <td>14.0</td>\n",
              "      <td>19.5</td>\n",
              "      <td>545</td>\n",
              "      <td>4</td>\n",
              "      <td>10</td>\n",
              "    </tr>\n",
              "    <tr>\n",
              "      <th>9</th>\n",
              "      <td>Siemens Gas and Power</td>\n",
              "      <td>SGT-100</td>\n",
              "      <td>MD</td>\n",
              "      <td>L/G</td>\n",
              "      <td>5700</td>\n",
              "      <td>10832</td>\n",
              "      <td>14.9</td>\n",
              "      <td>19.7</td>\n",
              "      <td>543</td>\n",
              "      <td>4</td>\n",
              "      <td>10</td>\n",
              "    </tr>\n",
              "    <tr>\n",
              "      <th>10</th>\n",
              "      <td>Siemens Gas and Power</td>\n",
              "      <td>SGT-300</td>\n",
              "      <td>MD</td>\n",
              "      <td>L/G</td>\n",
              "      <td>8364</td>\n",
              "      <td>10349</td>\n",
              "      <td>13.8</td>\n",
              "      <td>29.7</td>\n",
              "      <td>496</td>\n",
              "      <td>4</td>\n",
              "      <td>8</td>\n",
              "    </tr>\n",
              "    <tr>\n",
              "      <th>11</th>\n",
              "      <td>Siemens Gas and Power</td>\n",
              "      <td>SGT-300</td>\n",
              "      <td>MD</td>\n",
              "      <td>L/G</td>\n",
              "      <td>9140</td>\n",
              "      <td>10174</td>\n",
              "      <td>14.5</td>\n",
              "      <td>30.5</td>\n",
              "      <td>512</td>\n",
              "      <td>3</td>\n",
              "      <td>7</td>\n",
              "    </tr>\n",
              "    <tr>\n",
              "      <th>12</th>\n",
              "      <td>Siemens Gas and Power</td>\n",
              "      <td>SGT-400</td>\n",
              "      <td>EG</td>\n",
              "      <td>L/G</td>\n",
              "      <td>10360</td>\n",
              "      <td>10342</td>\n",
              "      <td>16.0</td>\n",
              "      <td>33.8</td>\n",
              "      <td>508</td>\n",
              "      <td>3</td>\n",
              "      <td>6</td>\n",
              "    </tr>\n",
              "    <tr>\n",
              "      <th>13</th>\n",
              "      <td>Siemens Gas and Power</td>\n",
              "      <td>SGT-400</td>\n",
              "      <td>MD</td>\n",
              "      <td>L/G</td>\n",
              "      <td>10790</td>\n",
              "      <td>9931</td>\n",
              "      <td>16.0</td>\n",
              "      <td>33.8</td>\n",
              "      <td>508</td>\n",
              "      <td>3</td>\n",
              "      <td>6</td>\n",
              "    </tr>\n",
              "    <tr>\n",
              "      <th>14</th>\n",
              "      <td>Siemens Gas and Power</td>\n",
              "      <td>SGT-400</td>\n",
              "      <td>EG</td>\n",
              "      <td>L/G</td>\n",
              "      <td>14326</td>\n",
              "      <td>10178</td>\n",
              "      <td>18.9</td>\n",
              "      <td>44.0</td>\n",
              "      <td>540</td>\n",
              "      <td>3</td>\n",
              "      <td>4</td>\n",
              "    </tr>\n",
              "    <tr>\n",
              "      <th>15</th>\n",
              "      <td>Siemens Gas and Power</td>\n",
              "      <td>SGT-400</td>\n",
              "      <td>MD</td>\n",
              "      <td>L/G</td>\n",
              "      <td>14912</td>\n",
              "      <td>9774</td>\n",
              "      <td>18.9</td>\n",
              "      <td>44.0</td>\n",
              "      <td>540</td>\n",
              "      <td>3</td>\n",
              "      <td>4</td>\n",
              "    </tr>\n",
              "    <tr>\n",
              "      <th>16</th>\n",
              "      <td>Siemens Gas and Power</td>\n",
              "      <td>SGT-600</td>\n",
              "      <td>EG</td>\n",
              "      <td>L/G</td>\n",
              "      <td>24480</td>\n",
              "      <td>10720</td>\n",
              "      <td>14.0</td>\n",
              "      <td>81.3</td>\n",
              "      <td>543</td>\n",
              "      <td>3</td>\n",
              "      <td>2</td>\n",
              "    </tr>\n",
              "    <tr>\n",
              "      <th>17</th>\n",
              "      <td>Siemens Gas and Power</td>\n",
              "      <td>SGT-600</td>\n",
              "      <td>MD</td>\n",
              "      <td>L/G</td>\n",
              "      <td>25240</td>\n",
              "      <td>10390</td>\n",
              "      <td>14.0</td>\n",
              "      <td>81.3</td>\n",
              "      <td>543</td>\n",
              "      <td>3</td>\n",
              "      <td>2</td>\n",
              "    </tr>\n",
              "    <tr>\n",
              "      <th>18</th>\n",
              "      <td>Siemens Gas and Power</td>\n",
              "      <td>SGT-700</td>\n",
              "      <td>EG</td>\n",
              "      <td>L/G</td>\n",
              "      <td>32820</td>\n",
              "      <td>9675</td>\n",
              "      <td>18.7</td>\n",
              "      <td>95.0</td>\n",
              "      <td>533</td>\n",
              "      <td>3</td>\n",
              "      <td>2</td>\n",
              "    </tr>\n",
              "    <tr>\n",
              "      <th>19</th>\n",
              "      <td>Siemens Gas and Power</td>\n",
              "      <td>SGT-700</td>\n",
              "      <td>MD</td>\n",
              "      <td>L/G</td>\n",
              "      <td>33670</td>\n",
              "      <td>9424</td>\n",
              "      <td>18.7</td>\n",
              "      <td>95.0</td>\n",
              "      <td>533</td>\n",
              "      <td>3</td>\n",
              "      <td>2</td>\n",
              "    </tr>\n",
              "    <tr>\n",
              "      <th>20</th>\n",
              "      <td>Siemens Gas and Power</td>\n",
              "      <td>SGT-800</td>\n",
              "      <td>EG</td>\n",
              "      <td>L/G</td>\n",
              "      <td>62500</td>\n",
              "      <td>8759</td>\n",
              "      <td>21.1</td>\n",
              "      <td>135.5</td>\n",
              "      <td>596</td>\n",
              "      <td>3</td>\n",
              "      <td>1</td>\n",
              "    </tr>\n",
              "    <tr>\n",
              "      <th>21</th>\n",
              "      <td>Siemens Gas and Power</td>\n",
              "      <td>SGT-A05 (Ind 501-KB7S)</td>\n",
              "      <td>EG</td>\n",
              "      <td>L/G</td>\n",
              "      <td>5380</td>\n",
              "      <td>11152</td>\n",
              "      <td>13.9</td>\n",
              "      <td>21.3</td>\n",
              "      <td>494</td>\n",
              "      <td>3</td>\n",
              "      <td>11</td>\n",
              "    </tr>\n",
              "    <tr>\n",
              "      <th>22</th>\n",
              "      <td>Siemens Gas and Power</td>\n",
              "      <td>SGT-A05 (Ind 501-KB7HE)</td>\n",
              "      <td>EG</td>\n",
              "      <td>L/G</td>\n",
              "      <td>5820</td>\n",
              "      <td>10848</td>\n",
              "      <td>14.1</td>\n",
              "      <td>21.4</td>\n",
              "      <td>522</td>\n",
              "      <td>4</td>\n",
              "      <td>10</td>\n",
              "    </tr>\n",
              "    <tr>\n",
              "      <th>23</th>\n",
              "      <td>Siemens Gas and Power</td>\n",
              "      <td>SGT-A35 (Industrial RB211) GT61 DLE</td>\n",
              "      <td>EG</td>\n",
              "      <td>L/G</td>\n",
              "      <td>32130</td>\n",
              "      <td>9159</td>\n",
              "      <td>21.6</td>\n",
              "      <td>94.0</td>\n",
              "      <td>509</td>\n",
              "      <td>3</td>\n",
              "      <td>2</td>\n",
              "    </tr>\n",
              "    <tr>\n",
              "      <th>24</th>\n",
              "      <td>Siemens Gas and Power</td>\n",
              "      <td>SGT-A35 (Industrial RB211) GT61 DLE</td>\n",
              "      <td>MD</td>\n",
              "      <td>L/G</td>\n",
              "      <td>32983</td>\n",
              "      <td>8922</td>\n",
              "      <td>21.6</td>\n",
              "      <td>93.9</td>\n",
              "      <td>509</td>\n",
              "      <td>3</td>\n",
              "      <td>2</td>\n",
              "    </tr>\n",
              "    <tr>\n",
              "      <th>25</th>\n",
              "      <td>Siemens Gas and Power</td>\n",
              "      <td>SGT-A35 (Industrial RB211) GT61</td>\n",
              "      <td>EG</td>\n",
              "      <td>L/G</td>\n",
              "      <td>32918</td>\n",
              "      <td>9155</td>\n",
              "      <td>22.1</td>\n",
              "      <td>95.0</td>\n",
              "      <td>509</td>\n",
              "      <td>3</td>\n",
              "      <td>2</td>\n",
              "    </tr>\n",
              "    <tr>\n",
              "      <th>26</th>\n",
              "      <td>Siemens Gas and Power</td>\n",
              "      <td>SGT-A35 (Industrial RB211) GT61</td>\n",
              "      <td>MD</td>\n",
              "      <td>L/G</td>\n",
              "      <td>33793</td>\n",
              "      <td>8912</td>\n",
              "      <td>22.1</td>\n",
              "      <td>94.8</td>\n",
              "      <td>509</td>\n",
              "      <td>3</td>\n",
              "      <td>2</td>\n",
              "    </tr>\n",
              "    <tr>\n",
              "      <th>27</th>\n",
              "      <td>Siemens Gas and Power</td>\n",
              "      <td>SGT-A35 (Industrial RB211) GT30 34MW</td>\n",
              "      <td>MD</td>\n",
              "      <td>L/G</td>\n",
              "      <td>33740</td>\n",
              "      <td>9219</td>\n",
              "      <td>22.8</td>\n",
              "      <td>99.3</td>\n",
              "      <td>501</td>\n",
              "      <td>3</td>\n",
              "      <td>2</td>\n",
              "    </tr>\n",
              "    <tr>\n",
              "      <th>28</th>\n",
              "      <td>Siemens Gas and Power</td>\n",
              "      <td>SGT-A35 (Industrial RB211) GT30 34MW DLE</td>\n",
              "      <td>MD</td>\n",
              "      <td>L/G</td>\n",
              "      <td>33090</td>\n",
              "      <td>9255</td>\n",
              "      <td>22.3</td>\n",
              "      <td>98.2</td>\n",
              "      <td>500</td>\n",
              "      <td>3</td>\n",
              "      <td>2</td>\n",
              "    </tr>\n",
              "    <tr>\n",
              "      <th>29</th>\n",
              "      <td>Siemens Gas and Power</td>\n",
              "      <td>SGT-A35 (Industrial RB211) GT30 38MW</td>\n",
              "      <td>MD</td>\n",
              "      <td>L/G</td>\n",
              "      <td>38100</td>\n",
              "      <td>8938</td>\n",
              "      <td>25.2</td>\n",
              "      <td>109.7</td>\n",
              "      <td>488</td>\n",
              "      <td>3</td>\n",
              "      <td>2</td>\n",
              "    </tr>\n",
              "    <tr>\n",
              "      <th>30</th>\n",
              "      <td>Siemens Gas and Power</td>\n",
              "      <td>SGT-A35 (Industrial RB211) GT30 38MW 60Hz</td>\n",
              "      <td>EG</td>\n",
              "      <td>L/G</td>\n",
              "      <td>37400</td>\n",
              "      <td>9074</td>\n",
              "      <td>25.0</td>\n",
              "      <td>109.1</td>\n",
              "      <td>487</td>\n",
              "      <td>3</td>\n",
              "      <td>2</td>\n",
              "    </tr>\n",
              "    <tr>\n",
              "      <th>31</th>\n",
              "      <td>Siemens Gas and Power</td>\n",
              "      <td>SGT-A35 (Industrial RB211) GT30 38MW 50Hz</td>\n",
              "      <td>EG</td>\n",
              "      <td>L/G</td>\n",
              "      <td>36600</td>\n",
              "      <td>9298</td>\n",
              "      <td>25.4</td>\n",
              "      <td>111.0</td>\n",
              "      <td>489</td>\n",
              "      <td>3</td>\n",
              "      <td>2</td>\n",
              "    </tr>\n",
              "    <tr>\n",
              "      <th>32</th>\n",
              "      <td>Siemens Gas and Power</td>\n",
              "      <td>SGT-A35 (Industrial RB211) GT30 34MW 60Hz</td>\n",
              "      <td>EG</td>\n",
              "      <td>L/G</td>\n",
              "      <td>33160</td>\n",
              "      <td>9362</td>\n",
              "      <td>22.7</td>\n",
              "      <td>98.9</td>\n",
              "      <td>500</td>\n",
              "      <td>3</td>\n",
              "      <td>2</td>\n",
              "    </tr>\n",
              "    <tr>\n",
              "      <th>33</th>\n",
              "      <td>Siemens Gas and Power</td>\n",
              "      <td>SGT-A35 (Industrial RB211) GT30 34MW 50Hz</td>\n",
              "      <td>EG</td>\n",
              "      <td>L/G</td>\n",
              "      <td>32170</td>\n",
              "      <td>9611</td>\n",
              "      <td>22.9</td>\n",
              "      <td>99.8</td>\n",
              "      <td>502</td>\n",
              "      <td>3</td>\n",
              "      <td>2</td>\n",
              "    </tr>\n",
              "    <tr>\n",
              "      <th>34</th>\n",
              "      <td>Siemens Gas and Power</td>\n",
              "      <td>SGT-A35 (Industrial RB211) GT30 34MW 50Hz DLE</td>\n",
              "      <td>EG</td>\n",
              "      <td>L/G</td>\n",
              "      <td>31920</td>\n",
              "      <td>9644</td>\n",
              "      <td>22.6</td>\n",
              "      <td>99.2</td>\n",
              "      <td>504</td>\n",
              "      <td>3</td>\n",
              "      <td>2</td>\n",
              "    </tr>\n",
              "    <tr>\n",
              "      <th>35</th>\n",
              "      <td>Siemens Gas and Power</td>\n",
              "      <td>SGT-A45 50Hz (15°C ambient)</td>\n",
              "      <td>EG</td>\n",
              "      <td>L/G</td>\n",
              "      <td>41000</td>\n",
              "      <td>9260</td>\n",
              "      <td>27.7</td>\n",
              "      <td>127.0</td>\n",
              "      <td>477</td>\n",
              "      <td>3</td>\n",
              "      <td>2</td>\n",
              "    </tr>\n",
              "    <tr>\n",
              "      <th>36</th>\n",
              "      <td>Siemens Gas and Power</td>\n",
              "      <td>SGT-A45 50Hz (30°C ambient)</td>\n",
              "      <td>EG</td>\n",
              "      <td>L/G</td>\n",
              "      <td>39300</td>\n",
              "      <td>9405</td>\n",
              "      <td>26.7</td>\n",
              "      <td>120.0</td>\n",
              "      <td>501</td>\n",
              "      <td>4</td>\n",
              "      <td>2</td>\n",
              "    </tr>\n",
              "    <tr>\n",
              "      <th>37</th>\n",
              "      <td>Siemens Gas and Power</td>\n",
              "      <td>SGT-A45 60Hz (15°C ambient)</td>\n",
              "      <td>EG</td>\n",
              "      <td>L/G</td>\n",
              "      <td>44000</td>\n",
              "      <td>8944</td>\n",
              "      <td>27.9</td>\n",
              "      <td>126.0</td>\n",
              "      <td>483</td>\n",
              "      <td>3</td>\n",
              "      <td>2</td>\n",
              "    </tr>\n",
              "    <tr>\n",
              "      <th>38</th>\n",
              "      <td>Siemens Gas and Power</td>\n",
              "      <td>SGT-A45 60Hz (30°C ambient)</td>\n",
              "      <td>EG</td>\n",
              "      <td>L/G</td>\n",
              "      <td>39600</td>\n",
              "      <td>9137</td>\n",
              "      <td>25.8</td>\n",
              "      <td>116.0</td>\n",
              "      <td>498</td>\n",
              "      <td>4</td>\n",
              "      <td>2</td>\n",
              "    </tr>\n",
              "    <tr>\n",
              "      <th>39</th>\n",
              "      <td>Solar Turbines</td>\n",
              "      <td>Titan 130</td>\n",
              "      <td>MD</td>\n",
              "      <td>L/G</td>\n",
              "      <td>147500</td>\n",
              "      <td>9940</td>\n",
              "      <td>16.1</td>\n",
              "      <td>50.0</td>\n",
              "      <td>505</td>\n",
              "      <td>3</td>\n",
              "      <td>4</td>\n",
              "    </tr>\n",
              "    <tr>\n",
              "      <th>40</th>\n",
              "      <td>Solar Turbines</td>\n",
              "      <td>Mars 100</td>\n",
              "      <td>EG</td>\n",
              "      <td>L/G</td>\n",
              "      <td>11860</td>\n",
              "      <td>10935</td>\n",
              "      <td>17.7</td>\n",
              "      <td>41.6</td>\n",
              "      <td>485</td>\n",
              "      <td>3</td>\n",
              "      <td>6</td>\n",
              "    </tr>\n",
              "    <tr>\n",
              "      <th>41</th>\n",
              "      <td>Solar Turbines</td>\n",
              "      <td>Mars 100</td>\n",
              "      <td>MD</td>\n",
              "      <td>L/G</td>\n",
              "      <td>11860</td>\n",
              "      <td>10465</td>\n",
              "      <td>17.1</td>\n",
              "      <td>41.6</td>\n",
              "      <td>485</td>\n",
              "      <td>3</td>\n",
              "      <td>6</td>\n",
              "    </tr>\n",
              "    <tr>\n",
              "      <th>42</th>\n",
              "      <td>Solar Turbines</td>\n",
              "      <td>Mars 90</td>\n",
              "      <td>EG</td>\n",
              "      <td>L/G</td>\n",
              "      <td>9860</td>\n",
              "      <td>11300</td>\n",
              "      <td>16.3</td>\n",
              "      <td>40.2</td>\n",
              "      <td>465</td>\n",
              "      <td>3</td>\n",
              "      <td>6</td>\n",
              "    </tr>\n",
              "    <tr>\n",
              "      <th>43</th>\n",
              "      <td>Solar Turbines</td>\n",
              "      <td>Mars 90</td>\n",
              "      <td>MD</td>\n",
              "      <td>L/G</td>\n",
              "      <td>9860</td>\n",
              "      <td>10830</td>\n",
              "      <td>16.3</td>\n",
              "      <td>40.2</td>\n",
              "      <td>465</td>\n",
              "      <td>3</td>\n",
              "      <td>6</td>\n",
              "    </tr>\n",
              "    <tr>\n",
              "      <th>44</th>\n",
              "      <td>Solar Turbines</td>\n",
              "      <td>Taurus 70</td>\n",
              "      <td>EG</td>\n",
              "      <td>L/G</td>\n",
              "      <td>8290</td>\n",
              "      <td>10505</td>\n",
              "      <td>17.6</td>\n",
              "      <td>26.6</td>\n",
              "      <td>505</td>\n",
              "      <td>3</td>\n",
              "      <td>8</td>\n",
              "    </tr>\n",
              "    <tr>\n",
              "      <th>45</th>\n",
              "      <td>Solar Turbines</td>\n",
              "      <td>Taurus 70</td>\n",
              "      <td>MD</td>\n",
              "      <td>L/G</td>\n",
              "      <td>8290</td>\n",
              "      <td>10195</td>\n",
              "      <td>16.5</td>\n",
              "      <td>26.2</td>\n",
              "      <td>510</td>\n",
              "      <td>3</td>\n",
              "      <td>8</td>\n",
              "    </tr>\n",
              "    <tr>\n",
              "      <th>46</th>\n",
              "      <td>Solar Turbines</td>\n",
              "      <td>Taurus 60</td>\n",
              "      <td>EG</td>\n",
              "      <td>L/G</td>\n",
              "      <td>5740</td>\n",
              "      <td>11425</td>\n",
              "      <td>12.5</td>\n",
              "      <td>21.8</td>\n",
              "      <td>510</td>\n",
              "      <td>4</td>\n",
              "      <td>10</td>\n",
              "    </tr>\n",
              "    <tr>\n",
              "      <th>47</th>\n",
              "      <td>Solar Turbines</td>\n",
              "      <td>Taurus 60 Mobile Power Unit</td>\n",
              "      <td>EG</td>\n",
              "      <td>L/G</td>\n",
              "      <td>5740</td>\n",
              "      <td>11425</td>\n",
              "      <td>12.5</td>\n",
              "      <td>21.8</td>\n",
              "      <td>510</td>\n",
              "      <td>4</td>\n",
              "      <td>10</td>\n",
              "    </tr>\n",
              "    <tr>\n",
              "      <th>48</th>\n",
              "      <td>Solar Turbines</td>\n",
              "      <td>Taurus 60 Modular Power Plant</td>\n",
              "      <td>EG</td>\n",
              "      <td>L/G</td>\n",
              "      <td>5740</td>\n",
              "      <td>11425</td>\n",
              "      <td>12.5</td>\n",
              "      <td>21.8</td>\n",
              "      <td>510</td>\n",
              "      <td>4</td>\n",
              "      <td>10</td>\n",
              "    </tr>\n",
              "    <tr>\n",
              "      <th>49</th>\n",
              "      <td>Solar Turbines</td>\n",
              "      <td>Taurus 60</td>\n",
              "      <td>MD</td>\n",
              "      <td>L/G</td>\n",
              "      <td>5740</td>\n",
              "      <td>11265</td>\n",
              "      <td>11.5</td>\n",
              "      <td>21.6</td>\n",
              "      <td>510</td>\n",
              "      <td>3</td>\n",
              "      <td>10</td>\n",
              "    </tr>\n",
              "    <tr>\n",
              "      <th>50</th>\n",
              "      <td>Solar Turbines</td>\n",
              "      <td>Centaur 50</td>\n",
              "      <td>EG</td>\n",
              "      <td>L/G</td>\n",
              "      <td>4570</td>\n",
              "      <td>12270</td>\n",
              "      <td>10.6</td>\n",
              "      <td>19.1</td>\n",
              "      <td>510</td>\n",
              "      <td>4</td>\n",
              "      <td>12</td>\n",
              "    </tr>\n",
              "    <tr>\n",
              "      <th>51</th>\n",
              "      <td>Solar Turbines</td>\n",
              "      <td>Centaur 50</td>\n",
              "      <td>MD</td>\n",
              "      <td>L/G</td>\n",
              "      <td>4570</td>\n",
              "      <td>12030</td>\n",
              "      <td>10.3</td>\n",
              "      <td>18.8</td>\n",
              "      <td>515</td>\n",
              "      <td>4</td>\n",
              "      <td>12</td>\n",
              "    </tr>\n",
              "    <tr>\n",
              "      <th>52</th>\n",
              "      <td>Solar Turbines</td>\n",
              "      <td>Centaur 40</td>\n",
              "      <td>EG</td>\n",
              "      <td>L/G</td>\n",
              "      <td>3500</td>\n",
              "      <td>12910</td>\n",
              "      <td>9.7</td>\n",
              "      <td>19.0</td>\n",
              "      <td>445</td>\n",
              "      <td>3</td>\n",
              "      <td>15</td>\n",
              "    </tr>\n",
              "    <tr>\n",
              "      <th>53</th>\n",
              "      <td>Solar Turbines</td>\n",
              "      <td>Centaur 40</td>\n",
              "      <td>MD</td>\n",
              "      <td>L/G</td>\n",
              "      <td>3500</td>\n",
              "      <td>12905</td>\n",
              "      <td>10.3</td>\n",
              "      <td>18.9</td>\n",
              "      <td>445</td>\n",
              "      <td>3</td>\n",
              "      <td>15</td>\n",
              "    </tr>\n",
              "    <tr>\n",
              "      <th>54</th>\n",
              "      <td>Solar Turbines</td>\n",
              "      <td>Saturn 20</td>\n",
              "      <td>EG</td>\n",
              "      <td>L/G</td>\n",
              "      <td>1185</td>\n",
              "      <td>14795</td>\n",
              "      <td>6.7</td>\n",
              "      <td>6.5</td>\n",
              "      <td>505</td>\n",
              "      <td>4</td>\n",
              "      <td>36</td>\n",
              "    </tr>\n",
              "    <tr>\n",
              "      <th>55</th>\n",
              "      <td>Solar Turbines</td>\n",
              "      <td>Saturn 20</td>\n",
              "      <td>MD</td>\n",
              "      <td>L/G</td>\n",
              "      <td>1185</td>\n",
              "      <td>14670</td>\n",
              "      <td>6.7</td>\n",
              "      <td>6.5</td>\n",
              "      <td>520</td>\n",
              "      <td>4</td>\n",
              "      <td>35</td>\n",
              "    </tr>\n",
              "  </tbody>\n",
              "</table>\n",
              "</div>"
            ],
            "text/plain": [
              "                 Fabricante  ... No de Conjuntos\n",
              "0   MAN Energy Solutions SE  ...               5\n",
              "1   MAN Energy Solutions SE  ...               5\n",
              "2   MAN Energy Solutions SE  ...               4\n",
              "3   MAN Energy Solutions SE  ...               4\n",
              "4   MAN Energy Solutions SE  ...               9\n",
              "5   MAN Energy Solutions SE  ...               8\n",
              "6   MAN Energy Solutions SE  ...               9\n",
              "7   MAN Energy Solutions SE  ...               8\n",
              "8     Siemens Gas and Power  ...              10\n",
              "9     Siemens Gas and Power  ...              10\n",
              "10    Siemens Gas and Power  ...               8\n",
              "11    Siemens Gas and Power  ...               7\n",
              "12    Siemens Gas and Power  ...               6\n",
              "13    Siemens Gas and Power  ...               6\n",
              "14    Siemens Gas and Power  ...               4\n",
              "15    Siemens Gas and Power  ...               4\n",
              "16    Siemens Gas and Power  ...               2\n",
              "17    Siemens Gas and Power  ...               2\n",
              "18    Siemens Gas and Power  ...               2\n",
              "19    Siemens Gas and Power  ...               2\n",
              "20    Siemens Gas and Power  ...               1\n",
              "21    Siemens Gas and Power  ...              11\n",
              "22    Siemens Gas and Power  ...              10\n",
              "23    Siemens Gas and Power  ...               2\n",
              "24    Siemens Gas and Power  ...               2\n",
              "25    Siemens Gas and Power  ...               2\n",
              "26    Siemens Gas and Power  ...               2\n",
              "27    Siemens Gas and Power  ...               2\n",
              "28    Siemens Gas and Power  ...               2\n",
              "29    Siemens Gas and Power  ...               2\n",
              "30    Siemens Gas and Power  ...               2\n",
              "31    Siemens Gas and Power  ...               2\n",
              "32    Siemens Gas and Power  ...               2\n",
              "33    Siemens Gas and Power  ...               2\n",
              "34    Siemens Gas and Power  ...               2\n",
              "35    Siemens Gas and Power  ...               2\n",
              "36    Siemens Gas and Power  ...               2\n",
              "37    Siemens Gas and Power  ...               2\n",
              "38    Siemens Gas and Power  ...               2\n",
              "39           Solar Turbines  ...               4\n",
              "40           Solar Turbines  ...               6\n",
              "41           Solar Turbines  ...               6\n",
              "42           Solar Turbines  ...               6\n",
              "43           Solar Turbines  ...               6\n",
              "44           Solar Turbines  ...               8\n",
              "45           Solar Turbines  ...               8\n",
              "46           Solar Turbines  ...              10\n",
              "47           Solar Turbines  ...              10\n",
              "48           Solar Turbines  ...              10\n",
              "49           Solar Turbines  ...              10\n",
              "50           Solar Turbines  ...              12\n",
              "51           Solar Turbines  ...              12\n",
              "52           Solar Turbines  ...              15\n",
              "53           Solar Turbines  ...              15\n",
              "54           Solar Turbines  ...              36\n",
              "55           Solar Turbines  ...              35\n",
              "\n",
              "[56 rows x 11 columns]"
            ]
          },
          "metadata": {
            "tags": []
          },
          "execution_count": 8
        }
      ]
    },
    {
      "cell_type": "markdown",
      "metadata": {
        "id": "PCyzcbygjCG3"
      },
      "source": [
        "## Preencha a primeira linha com o número da Turbina escolhida na tabela anterior e execute, a análise estará no fim da página\r\n",
        "\r\n",
        "i = ?\r\n",
        "\r\n"
      ]
    },
    {
      "cell_type": "code",
      "metadata": {
        "colab": {
          "base_uri": "https://localhost:8080/",
          "height": 926
        },
        "id": "BxN67LUAjQGq",
        "outputId": "b2986da5-29e4-4c0b-894e-a6651ac2a71f"
      },
      "source": [
        "i = 38\r\n",
        "\r\n",
        "pm.config['unit_pressure'] = 'MPa'\r\n",
        "pm.config['unit_temperature'] = 'C'\r\n",
        "agua = pm.get('mp.H2O')\r\n",
        "display(status.iloc[i:i+1])\r\n",
        "print(\"\")\r\n",
        "\r\n",
        "P_entrada = P_saida / (0.95**3)\r\n",
        "hv=agua.h(T=T_saida, p=P_saida)[0]\r\n",
        "ha=agua.h(T=T_entrada, p=P_saida)[0]\r\n",
        "T_sat = agua.Ts(p=P_saida)[0]\r\n",
        "hls=agua.h(p=P_saida, x=0)[0]\r\n",
        "hvs=agua.h(p=P_saida, x=1)[0]\r\n",
        "mg_max = mvt*(hv-ha)/(0.8*cpg*(400-150))\r\n",
        "\r\n",
        "keep = True\r\n",
        "\r\n",
        "#Características do ciclo a gás\r\n",
        "modelo = status.at[i,'Modelo']\r\n",
        "\r\n",
        "W = status.at[i,'kW']\r\n",
        "HR = status.at[i,'HR (kJ/KwH)']\r\n",
        "Pr = status.at[i,'Pressure Ratio']\r\n",
        "Mg = status.at[i,'Mass Flow (kg/s)']\r\n",
        "Tg = status.at[i,'Exaust Temp (oC)']\r\n",
        "\r\n",
        "mg_necessaria = mvt*(hv-ha) / (0.8*cpg*(Tg-150))\r\n",
        "numero_conjuntos = max(math.floor(mg_necessaria/Mg),1)\r\n",
        "mv = mvt / numero_conjuntos\r\n",
        "print(\"\")\r\n",
        "display(Latex(r'\\color{red}\\text{Fazendo o balanço de energia com a caldeira como volume de controle:}'))\r\n",
        "print(\"\")\r\n",
        "display(Latex(r'\\eta_{cg}\\dot{m_{g}}c_{p,g}(T_{g}-T_{ch}) = \\dot{m_{v}}(h_{v}-h_{a})'))\r\n",
        "print(\"\")\r\n",
        "display(Latex(r'0,8.\\dot{m_{g}}.1,2(T_{g}-150) = ' + str(round(mv,2)) + '(' + str(round(hv,2)) +'-'+ str(round(ha,2)) + ')' + r'\\Rightarrow\\dot{m_{g}}_{necessária} = '+str(round(mg_necessaria,2))+\" [kg/s]\" ))\r\n",
        "print(\"\")\r\n",
        "display(Latex(r'\\displaystyle\\frac{\\dot{m_{g}}_{necessária}}{\\dot{m_{g}}} = \\frac{'+str(round(mg_necessaria,1))+ '}{' + str(round(Mg,1)) + '} = ' + str(round(mg_necessaria/Mg,2))+ r'\\rightarrow'+ str(numero_conjuntos) + r'\\mathrm{ CG + QS}'))\r\n",
        "display(Latex(r'\\text{---------------------------------------------------------------------------------------------------------------------------}'))\r\n",
        "\r\n",
        "\r\n",
        "Qg = Mg*cpg*(Tg-150)\r\n",
        "Qa  = mv*(hv-ha)\r\n",
        "Qls = mv*(hv-hls)\r\n",
        "Qvs = mv*(hv-hvs)\r\n",
        "Qv  = mv*(hv-hv)\r\n",
        "\r\n",
        "Rend_real = Qa/Qg\r\n",
        "\r\n",
        "Tpp_inf = 10\r\n",
        "Tpp_sup = 30\r\n",
        "\r\n",
        "Tch_inf = Tg + ((T_sat+Tpp_inf)-Tg)*Qg/Qls\r\n",
        "Tch_sup = Tg + ((T_sat+Tpp_sup)-Tg)*Qg/Qls\r\n",
        "\r\n",
        "\r\n",
        "\r\n",
        "## Prints\r\n",
        "#print(f\"Modelo : {modelo} - Potência = {W}kW - Vazão de Gases = {Mg}Kg/s - Temperatura de exaustão = {Tg} °C\")\r\n",
        "#print(f\"Número de conjuntos a gás necessários : {round(mg_necessaria/Mg,2)} -> {numero_conjuntos} + QS\")\r\n",
        "\r\n",
        "#display(Math(r'\\dot{m_{g}} = \\frac{\\dot{m_{v}}.(h_{v}-h_{a})}{\\eta_{cg}.c_{p,g}.(T_{g}-T_{ch})}'))\r\n",
        "print(\"\")\r\n",
        "display(Latex(r'\\dot{Q_{g}}=\\dot{m_{g}}c_{p,g}(T_{g}-T_{ch}) = '+ str(round(Mg,2)) + '*' +str(cpg) + '*' + '('+ str(round(Tg,2))+ '-' +  str(round(Tchi,2)) + ')kW'))\r\n",
        "display(Latex(r'$\\dot{Q_{a}}=\\dot{m_{v}}(h_{v}-h_{a}) = '+ str(round(mv,2)) + '(' + str(round(hv,2)) +'-'+ str(round(ha,2))+ ') = ' +  str(round(Qa,2)) + 'kW'))\r\n",
        "display(Latex(r'\\dot{Q_{ls}}=\\dot{m_{v}}(h_{v}-h_{ls}) = '+ str(round(mv,2)) + '(' + str(round(hv,2)) +'-'+ str(round(hls,2))+ ') = ' +  str(round(Qls,2)) + 'kW'))\r\n",
        "display(Latex(r'\\dot{Q_{vs}}=\\dot{m_{v}}(h_{v}-h_{vs}) = '+ str(round(mv,2)) + '(' + str(round(hv,2)) +'-'+ str(round(hvs,2))+ ') = ' +  str(round(Qvs,2)) + 'kW'))\r\n",
        "display(Latex(r'\\dot{Q_{v}}=\\dot{m_{v}}(h_{v}-h_{a}) = '+ str(round(mv,2)) + '(' + str(round(hv,2)) +'-'+ str(round(hv,2))+ ') = ' +  str(round(0,2)) + 'kW'))\r\n",
        "\r\n",
        "print(\"\")\r\n",
        "display(Latex(r'\\displaystyle\\eta_{real} = \\frac{Q_{a}}{Q_{g}} = \\frac{'+str(round(Qa,2))+'}{'+str(round(Qg,2))+'} = ' + str(round(Rend_real,3))   ))\r\n",
        "display(Latex(r'\\text{---------------------------------------------------------------------------------------------------------------------------}'))\r\n",
        "print(\"\")\r\n",
        "display(Latex(r'\\color{red}\\rightarrow \\text{Temperaturas de chaminé:}'))\r\n",
        "display(Latex(r'T_{ch}= T_{g} + [(T_{sat}+\\Delta T_{PP})-T_{g}] \\displaystyle\\frac{Q_{g}}{Q_{ls}}'))\r\n",
        "display(Latex(r\"\\text{Para:}\"))\r\n",
        "\r\n",
        "if Tch_inf>100:\r\n",
        "  display(Latex(r\" \\displaystyle\\Delta T_{PP} = 10°C \\Rightarrow T_{ch} = \" +str(round(Tg,2)) + '+[(' + str(round(T_sat,1)) + '+10)-'+str(round(Tg,2))+'] '+r\"\\frac{\"+str(round(Qg,2))+'}{'+str(round(Qls,2))+'} = '+str(round(Tch_inf))+'°C'+r'\\color{green}\\text{ < Ok >}'))\r\n",
        "else:\r\n",
        "  display(Latex(r\" \\displaystyle\\Delta T_{PP} = 10°C \\Rightarrow T_{ch} = \" +str(round(Tg,2)) + '+[(' + str(round(T_sat,1)) + '+10)-'+str(round(Tg,2))+'] '+r\"\\frac{\"+str(round(Qg,2))+'}{'+str(round(Qls,2))+'} = '+str(round(Tch_inf))+'°C'+r'\\color{red}\\text{ < Fora >}'))\r\n",
        "  print()\r\n",
        "  display(Latex(r'\\rightarrow \\text{        Necessária correção da temperatura de chaminé:}'))\r\n",
        "  Tch_inf = 100\r\n",
        "  Tpp_inf = ( (Tch_inf-Tg)*Qls/Qg)-T_sat+Tg\r\n",
        "  print()\r\n",
        "  display(Latex(r\" \\displaystyle T_{ch}' = 100°C = \" +str(round(Tg,2)) + '+[(' + str(round(T_sat,1)) + r'+\\Delta T_{pp})-'+str(round(Tg,2))+'] '+r\"\\frac{\"+str(round(Qg,2))+'}{'+str(round(Qls,2))+r'}\\rightarrow \\Delta T_{pp}='+str(round(Tpp_inf,1))+'°C'))\r\n",
        "print(\"\")\r\n",
        "\r\n",
        "if Tch_sup<200:\r\n",
        "  display(Latex(r\" \\displaystyle\\Delta T_{PP} = 30°C \\Rightarrow T_{ch} = \" +str(round(Tg,2)) + '+[(' + str(round(T_sat,1)) + '+30)-'+str(round(Tg,2))+'] '+r\"\\frac{\"+str(round(Qg,2))+'}{'+str(round(Qls,2))+'} = '+str(round(Tch_sup))+'°C'+r'\\color{green}\\text{ < Ok >}'))\r\n",
        "else:\r\n",
        "  display(Latex(r\" \\displaystyle\\Delta T_{PP} = 30°C \\Rightarrow T_{ch} = \" +str(round(Tg,2)) + '+[(' + str(round(T_sat,1)) + '+30)-'+str(round(Tg,2))+'] '+r\"\\frac{\"+str(round(Qg,2))+'}{'+str(round(Qls,2))+'} = '+str(round(Tch_sup))+'°C'+r'\\color{red}\\text{ < Fora >}'))\r\n",
        "  print()\r\n",
        "  display(Latex(r'\\rightarrow \\text{        Necessária correção da temperatura de chaminé:}'))\r\n",
        "  Tch_sup = 200\r\n",
        "  Tpp_sup = ( (Tch_sup-Tg)*Qls/Qg)-T_sat+Tg\r\n",
        "  print()\r\n",
        "  display(Latex(r\" \\displaystyle T_{ch}' = 200°C = \" +str(round(Tg,2)) + '+[(' + str(round(T_sat,1)) + r'+\\Delta T_{pp})-'+str(round(Tg,2))+'] '+r\"\\frac{\"+str(round(Qg,2))+'}{'+str(round(Qls,2))+r'}\\rightarrow \\Delta T_{pp}='+str(round(Tpp_sup,1))+'°C'))\r\n",
        "\r\n",
        "display(Latex(r'\\text{---------------------------------------------------------------------------------------------------------------------------}'))\r\n",
        "\r\n",
        "\r\n",
        "Fluxo_termico_gas_sup = Rend_real*Mg*cpg*(Tg-Tch_inf)\r\n",
        "Fluxo_termico_gas_inf = Rend_real*Mg*cpg*(Tg-Tch_sup)\r\n",
        "display(Latex(r'\\color{red}\\text{Verificação de Paridade Térmica:}'))\r\n",
        "print()\r\n",
        "display(Latex(r\"\\rightarrow \\text{Comparando } \\eta_{CR}\\dot{Q'_{g}} \\text{ com } \\dot{Q'_{a}} :\"))\r\n",
        "display(Latex(r\"\\Delta T_{pp} = \"+str(round(Tpp_sup,1))+'°C' + r\"\\rightarrow \\eta_{CR}\\dot{Q'_{g}} = \"+str(round(Rend_real,4))+'*'+str(round(Mg,1))+'*'+str(round(cpg,1))+'*('+str(round(Tg,1))+'-'+str(round(Tch_sup))+') = ' + str(round(Fluxo_termico_gas_inf,1))+'kW < ' +str(round(Qa,1))+'kW(='+ r\"\\dot{Q_{a}})\\rightarrow \\color{green}\\text{Défict térmico}\"   ))\r\n",
        "\r\n",
        "\r\n",
        "\r\n",
        "if Fluxo_termico_gas_sup < Qa:\r\n",
        "  display(Latex(r\"\\Delta T_{pp} = \"+str(round(Tpp_inf,1))+'°C' + r\"\\rightarrow \\eta_{CR}\\dot{Q'_{g}} = \"+str(round(Rend_real,4))+'*'+str(round(Mg,1))+'*'+str(round(cpg,1))+'*('+str(round(Tg,1))+'-'+str(round(Tch_inf))+') = ' + str(round(Fluxo_termico_gas_sup,1))+'kW < ' +str(round(Qa,1))+'kW(='+ r\"\\dot{Q_{a}})\\rightarrow \\color{green}\\text{Défict térmico}\"   ))\r\n",
        "  print()\r\n",
        "  display(Latex(r\"\\Rightarrow\\textbf{Conjunto a gás com défict térmico, necessário Queima suplementar:}\"))\r\n",
        "  ms = (Qa-Fluxo_termico_gas_sup)/(Rend_real*PCI)\r\n",
        "  mc = W*HR/(3600*PCI)\r\n",
        "  proporcao = ms/mc\r\n",
        "  print()\r\n",
        "  display(Latex(r\"\\displaystyle\\dot{m_{s}} = \\frac{\\dot{Q_{a}}-\\eta_{CR}\\dot{Q'_{g}}}{\\eta_{CR}PCI_{s}} = \\frac{\" +str(round(Qa,2))+'-'+str(round(Fluxo_termico_gas_sup,1))+'}{'+str(round(Rend_real,4))+'*'+str(PCI)+'} = '+str(round(ms,4))+'kg/s'))\r\n",
        "  print()\r\n",
        "  display(Latex(r\"\\displaystyle\\dot{m_{c}} = \\frac{\\dot{W_{liq}}HR}{3600.PCI} = \\frac{\"+str(round(W,0))+'*'+str(round(HR,0))+'}{3600*'+str(round(PCI,0))+'} = '+str(round(mc,4))+'kg/s'    ))\r\n",
        "  print()\r\n",
        "  display(Latex(r\"\\displaystyle \\frac{\\dot{m_s}}{\\dot{m_{c}}} = \"+str(round(proporcao*100,2))+r\"\\text{ \\% (Ok!)}\"         ))\r\n",
        "    \r\n",
        "else:\r\n",
        "  display(Latex(r\"\\Delta T_{pp} = \"+str(round(Tpp_inf,1))+'°C' + r\"\\rightarrow \\eta_{CR}\\dot{Q'_{g}} = \"+str(round(Rend_real,4))+'*'+str(round(Mg,1))+'*'+str(round(cpg,1))+'*('+str(round(Tg,1))+'-'+str(round(Tch_inf))+') = ' + str(round(Fluxo_termico_gas_sup,1))+'kW > ' +str(round(Qa,1))+'kW(='+ r\"\\dot{Q_{a}})\\rightarrow \\color{red}\\text{Excedente térmico}\"   ))\r\n",
        "  Tch_final = -1* ( (Qa/(Rend_real*cpg*Mg))-Tg)\r\n",
        "  print()\r\n",
        "  display(Latex(r\"\\rightarrow \\text{Calculando temperatura de chaminé ótima para paridade térmica:}\"))\r\n",
        "  print()\r\n",
        "  display(Latex(r\"\\dot{Q_{a}} = \"+str(round(Qa,1)) + r\"kW=\\eta_{CR}\\dot{Q'_{g}}=\"+str(round(Rend_real,4))+'*'+str(round(Mg,1))+'*'+str(round(cpg,1))+'('+str(round(Tg,0))+r\"-T'_{ch}) \\rightarrow T'_{ch}=\"+str(round(Tch_final,1))+'°C'))\r\n",
        "  print()\r\n",
        "  Tpp_final = ( (Tch_final-Tg)*Qls/Qg)-T_sat+Tg\r\n",
        "  display(Latex(r\" \\displaystyle T_{ch}' =\"+ str(round(Tch_final,1))+  \"  = \" +str(round(Tg,2)) + '+[(' + str(round(T_sat,1)) + r\"+\\Delta T'_{pp})-\"+str(round(Tg,2))+'] '+r\"\\frac{\"+str(round(Qg,2))+'}{'+str(round(Qls,2))+r\"}\\rightarrow \\Delta T'_{pp}=\"+str(round(Tpp_final,1))+'°C'))\r\n",
        "       "
      ],
      "execution_count": 104,
      "outputs": [
        {
          "output_type": "display_data",
          "data": {
            "text/html": [
              "<div>\n",
              "<style scoped>\n",
              "    .dataframe tbody tr th:only-of-type {\n",
              "        vertical-align: middle;\n",
              "    }\n",
              "\n",
              "    .dataframe tbody tr th {\n",
              "        vertical-align: top;\n",
              "    }\n",
              "\n",
              "    .dataframe thead th {\n",
              "        text-align: right;\n",
              "    }\n",
              "</style>\n",
              "<table border=\"1\" class=\"dataframe\">\n",
              "  <thead>\n",
              "    <tr style=\"text-align: right;\">\n",
              "      <th></th>\n",
              "      <th>Fabricante</th>\n",
              "      <th>Modelo</th>\n",
              "      <th>Tipo</th>\n",
              "      <th>Combustível</th>\n",
              "      <th>kW</th>\n",
              "      <th>HR (kJ/KwH)</th>\n",
              "      <th>Pressure Ratio</th>\n",
              "      <th>Mass Flow (kg/s)</th>\n",
              "      <th>Exaust Temp (oC)</th>\n",
              "      <th>Status</th>\n",
              "      <th>No de Conjuntos</th>\n",
              "    </tr>\n",
              "  </thead>\n",
              "  <tbody>\n",
              "    <tr>\n",
              "      <th>38</th>\n",
              "      <td>Siemens Gas and Power</td>\n",
              "      <td>SGT-A45 60Hz (30°C ambient)</td>\n",
              "      <td>EG</td>\n",
              "      <td>L/G</td>\n",
              "      <td>39600</td>\n",
              "      <td>9137</td>\n",
              "      <td>25.8</td>\n",
              "      <td>116.0</td>\n",
              "      <td>498</td>\n",
              "      <td>4</td>\n",
              "      <td>2</td>\n",
              "    </tr>\n",
              "  </tbody>\n",
              "</table>\n",
              "</div>"
            ],
            "text/plain": [
              "               Fabricante                       Modelo  ... Status No de Conjuntos\n",
              "38  Siemens Gas and Power  SGT-A45 60Hz (30°C ambient)  ...      4               2\n",
              "\n",
              "[1 rows x 11 columns]"
            ]
          },
          "metadata": {
            "tags": []
          }
        },
        {
          "output_type": "stream",
          "text": [
            "\n",
            "\n"
          ],
          "name": "stdout"
        },
        {
          "output_type": "display_data",
          "data": {
            "text/latex": "\\color{red}\\text{Fazendo o balanço de energia com a caldeira como volume de controle:}",
            "text/plain": [
              "<IPython.core.display.Latex object>"
            ]
          },
          "metadata": {
            "tags": []
          }
        },
        {
          "output_type": "stream",
          "text": [
            "\n"
          ],
          "name": "stdout"
        },
        {
          "output_type": "display_data",
          "data": {
            "text/latex": "\\eta_{cg}\\dot{m_{g}}c_{p,g}(T_{g}-T_{ch}) = \\dot{m_{v}}(h_{v}-h_{a})",
            "text/plain": [
              "<IPython.core.display.Latex object>"
            ]
          },
          "metadata": {
            "tags": []
          }
        },
        {
          "output_type": "stream",
          "text": [
            "\n"
          ],
          "name": "stdout"
        },
        {
          "output_type": "display_data",
          "data": {
            "text/latex": "0,8.\\dot{m_{g}}.1,2(T_{g}-150) = 12.5(3375.13-134.82)\\Rightarrow\\dot{m_{g}}_{necessária} = 242.48 [kg/s]",
            "text/plain": [
              "<IPython.core.display.Latex object>"
            ]
          },
          "metadata": {
            "tags": []
          }
        },
        {
          "output_type": "stream",
          "text": [
            "\n"
          ],
          "name": "stdout"
        },
        {
          "output_type": "display_data",
          "data": {
            "text/latex": "\\displaystyle\\frac{\\dot{m_{g}}_{necessária}}{\\dot{m_{g}}} = \\frac{242.5}{116.0} = 2.09\\rightarrow2\\mathrm{ CG + QS}",
            "text/plain": [
              "<IPython.core.display.Latex object>"
            ]
          },
          "metadata": {
            "tags": []
          }
        },
        {
          "output_type": "display_data",
          "data": {
            "text/latex": "\\text{---------------------------------------------------------------------------------------------------------------------------}",
            "text/plain": [
              "<IPython.core.display.Latex object>"
            ]
          },
          "metadata": {
            "tags": []
          }
        },
        {
          "output_type": "stream",
          "text": [
            "\n"
          ],
          "name": "stdout"
        },
        {
          "output_type": "display_data",
          "data": {
            "text/latex": "\\dot{Q_{g}}=\\dot{m_{g}}c_{p,g}(T_{g}-T_{ch}) = 116.0*1.2*(498-150)kW",
            "text/plain": [
              "<IPython.core.display.Latex object>"
            ]
          },
          "metadata": {
            "tags": []
          }
        },
        {
          "output_type": "display_data",
          "data": {
            "text/latex": "$\\dot{Q_{a}}=\\dot{m_{v}}(h_{v}-h_{a}) = 12.5(3375.13-134.82) = 40503.86kW",
            "text/plain": [
              "<IPython.core.display.Latex object>"
            ]
          },
          "metadata": {
            "tags": []
          }
        },
        {
          "output_type": "display_data",
          "data": {
            "text/latex": "\\dot{Q_{ls}}=\\dot{m_{v}}(h_{v}-h_{ls}) = 12.5(3375.13-1407.94) = 24589.83kW",
            "text/plain": [
              "<IPython.core.display.Latex object>"
            ]
          },
          "metadata": {
            "tags": []
          }
        },
        {
          "output_type": "display_data",
          "data": {
            "text/latex": "\\dot{Q_{vs}}=\\dot{m_{v}}(h_{v}-h_{vs}) = 12.5(3375.13-2725.46) = 8120.86kW",
            "text/plain": [
              "<IPython.core.display.Latex object>"
            ]
          },
          "metadata": {
            "tags": []
          }
        },
        {
          "output_type": "display_data",
          "data": {
            "text/latex": "\\dot{Q_{v}}=\\dot{m_{v}}(h_{v}-h_{a}) = 12.5(3375.13-3375.13) = 0kW",
            "text/plain": [
              "<IPython.core.display.Latex object>"
            ]
          },
          "metadata": {
            "tags": []
          }
        },
        {
          "output_type": "stream",
          "text": [
            "\n"
          ],
          "name": "stdout"
        },
        {
          "output_type": "display_data",
          "data": {
            "text/latex": "\\displaystyle\\eta_{real} = \\frac{Q_{a}}{Q_{g}} = \\frac{40503.86}{48441.6} = 0.836",
            "text/plain": [
              "<IPython.core.display.Latex object>"
            ]
          },
          "metadata": {
            "tags": []
          }
        },
        {
          "output_type": "display_data",
          "data": {
            "text/latex": "\\text{---------------------------------------------------------------------------------------------------------------------------}",
            "text/plain": [
              "<IPython.core.display.Latex object>"
            ]
          },
          "metadata": {
            "tags": []
          }
        },
        {
          "output_type": "stream",
          "text": [
            "\n"
          ],
          "name": "stdout"
        },
        {
          "output_type": "display_data",
          "data": {
            "text/latex": "\\color{red}\\rightarrow \\text{Temperaturas de chaminé:}",
            "text/plain": [
              "<IPython.core.display.Latex object>"
            ]
          },
          "metadata": {
            "tags": []
          }
        },
        {
          "output_type": "display_data",
          "data": {
            "text/latex": "T_{ch}= T_{g} + [(T_{sat}+\\Delta T_{PP})-T_{g}] \\displaystyle\\frac{Q_{g}}{Q_{ls}}",
            "text/plain": [
              "<IPython.core.display.Latex object>"
            ]
          },
          "metadata": {
            "tags": []
          }
        },
        {
          "output_type": "display_data",
          "data": {
            "text/latex": "\\text{Para:}",
            "text/plain": [
              "<IPython.core.display.Latex object>"
            ]
          },
          "metadata": {
            "tags": []
          }
        },
        {
          "output_type": "display_data",
          "data": {
            "text/latex": " \\displaystyle\\Delta T_{PP} = 10°C \\Rightarrow T_{ch} = 498+[(311.0+10)-498] \\frac{48441.6}{24589.83} = 149°C\\color{green}\\text{ < Ok >}",
            "text/plain": [
              "<IPython.core.display.Latex object>"
            ]
          },
          "metadata": {
            "tags": []
          }
        },
        {
          "output_type": "stream",
          "text": [
            "\n"
          ],
          "name": "stdout"
        },
        {
          "output_type": "display_data",
          "data": {
            "text/latex": " \\displaystyle\\Delta T_{PP} = 30°C \\Rightarrow T_{ch} = 498+[(311.0+30)-498] \\frac{48441.6}{24589.83} = 189°C\\color{green}\\text{ < Ok >}",
            "text/plain": [
              "<IPython.core.display.Latex object>"
            ]
          },
          "metadata": {
            "tags": []
          }
        },
        {
          "output_type": "display_data",
          "data": {
            "text/latex": "\\text{---------------------------------------------------------------------------------------------------------------------------}",
            "text/plain": [
              "<IPython.core.display.Latex object>"
            ]
          },
          "metadata": {
            "tags": []
          }
        },
        {
          "output_type": "display_data",
          "data": {
            "text/latex": "\\color{red}\\text{Verificação de Paridade Térmica:}",
            "text/plain": [
              "<IPython.core.display.Latex object>"
            ]
          },
          "metadata": {
            "tags": []
          }
        },
        {
          "output_type": "stream",
          "text": [
            "\n"
          ],
          "name": "stdout"
        },
        {
          "output_type": "display_data",
          "data": {
            "text/latex": "\\rightarrow \\text{Comparando } \\eta_{CR}\\dot{Q'_{g}} \\text{ com } \\dot{Q'_{a}} :",
            "text/plain": [
              "<IPython.core.display.Latex object>"
            ]
          },
          "metadata": {
            "tags": []
          }
        },
        {
          "output_type": "display_data",
          "data": {
            "text/latex": "\\Delta T_{pp} = 30°C\\rightarrow \\eta_{CR}\\dot{Q'_{g}} = 0.8361*116.0*1.2*(498-189) = 35998.7kW < 40503.9kW(=\\dot{Q_{a}})\\rightarrow \\color{green}\\text{Défict térmico}",
            "text/plain": [
              "<IPython.core.display.Latex object>"
            ]
          },
          "metadata": {
            "tags": []
          }
        },
        {
          "output_type": "display_data",
          "data": {
            "text/latex": "\\Delta T_{pp} = 10°C\\rightarrow \\eta_{CR}\\dot{Q'_{g}} = 0.8361*116.0*1.2*(498-149) = 40584.5kW > 40503.9kW(=\\dot{Q_{a}})\\rightarrow \\color{red}\\text{Excedente térmico}",
            "text/plain": [
              "<IPython.core.display.Latex object>"
            ]
          },
          "metadata": {
            "tags": []
          }
        },
        {
          "output_type": "stream",
          "text": [
            "\n"
          ],
          "name": "stdout"
        },
        {
          "output_type": "display_data",
          "data": {
            "text/latex": "\\rightarrow \\text{Calculando temperatura de chaminé ótima para paridade térmica:}",
            "text/plain": [
              "<IPython.core.display.Latex object>"
            ]
          },
          "metadata": {
            "tags": []
          }
        },
        {
          "output_type": "stream",
          "text": [
            "\n"
          ],
          "name": "stdout"
        },
        {
          "output_type": "display_data",
          "data": {
            "text/latex": "\\dot{Q_{a}} = 40503.9kW=\\eta_{CR}\\dot{Q'_{g}}=0.8361*116.0*1.2(498-T'_{ch}) \\rightarrow T'_{ch}=150.0°C",
            "text/plain": [
              "<IPython.core.display.Latex object>"
            ]
          },
          "metadata": {
            "tags": []
          }
        },
        {
          "output_type": "stream",
          "text": [
            "\n"
          ],
          "name": "stdout"
        },
        {
          "output_type": "display_data",
          "data": {
            "text/latex": " \\displaystyle T_{ch}' =150.0  = 498+[(311.0+\\Delta T'_{pp})-498] \\frac{48441.6}{24589.83}\\rightarrow \\Delta T'_{pp}=10.4°C",
            "text/plain": [
              "<IPython.core.display.Latex object>"
            ]
          },
          "metadata": {
            "tags": []
          }
        }
      ]
    }
  ]
}